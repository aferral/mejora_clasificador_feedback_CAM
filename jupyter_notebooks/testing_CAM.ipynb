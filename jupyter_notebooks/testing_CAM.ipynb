{
 "cells": [
  {
   "cell_type": "code",
   "execution_count": 9,
   "metadata": {},
   "outputs": [
    {
     "name": "stdout",
     "output_type": "stream",
     "text": [
      "/home/aferral/PycharmProjects/generative_supervised_data_augmentation\n",
      "['requirements.txt', 'classification_models.py', 't.py', 'model', 'utils.py', 'venv', '.idea', 'test.html', 'jupyter_notebooks', '__pycache__', '.ipynb_checkpoints']\n"
     ]
    }
   ],
   "source": [
    "import os\n",
    "import sys\n",
    "\n",
    "# Set path of python project\n",
    "path=\"/home/aferral/PycharmProjects/generative_supervised_data_augmentation\"\n",
    "os.chdir(path)\n",
    "print(os.getcwd())\n",
    "print(os.listdir('./'))"
   ]
  },
  {
   "cell_type": "code",
   "execution_count": 12,
   "metadata": {},
   "outputs": [
    {
     "name": "stdout",
     "output_type": "stream",
     "text": [
      "INFO:tensorflow:Restoring parameters from ./model/check\n",
      "conv_acts.shape: (2, 2, 50)\n",
      "softmax_w.shape: (50, 10)\n",
      "pred.shape: (1, 10)\n",
      "Prediciont [7.51911628e-07 9.99082641e-01 1.35972044e-05 5.41264308e-08\n",
      " 6.80869579e-06 6.33817588e-09 1.04865195e-08 2.51884169e-08\n",
      " 8.95351887e-04 7.52661704e-07]\n",
      "Predicted 1\n",
      "(10, 2, 2)\n",
      "CMAP: \n"
     ]
    },
    {
     "name": "stderr",
     "output_type": "stream",
     "text": [
      "/home/aferral/PycharmProjects/generative_supervised_data_augmentation/venv/lib/python3.5/site-packages/skimage/transform/_warps.py:84: UserWarning: The default mode, 'constant', will be changed to 'reflect' in skimage 0.15.\n",
      "  warn(\"The default mode, 'constant', will be changed to 'reflect' in \"\n"
     ]
    },
    {
     "data": {
      "image/png": "[encoded data removed]",
      "text/plain": [
       "<Figure size 432x288 with 1 Axes>"
      ]
     },
     "metadata": {},
     "output_type": "display_data"
    },
    {
     "data": {
      "image/png": "[encoded data removed]",
      "text/plain": [
       "<Figure size 432x288 with 1 Axes>"
      ]
     },
     "metadata": {},
     "output_type": "display_data"
    },
    {
     "data": {
      "image/png": "[encoded data removed]",
      "text/plain": [
       "<Figure size 432x288 with 1 Axes>"
      ]
     },
     "metadata": {},
     "output_type": "display_data"
    },
    {
     "data": {
      "image/png": "[encoded data removed]",
      "text/plain": [
       "<Figure size 432x288 with 1 Axes>"
      ]
     },
     "metadata": {},
     "output_type": "display_data"
    },
    {
     "data": {
      "image/png": "[encoded data removed]",
      "text/plain": [
       "<Figure size 432x288 with 1 Axes>"
      ]
     },
     "metadata": {},
     "output_type": "display_data"
    }
   ],
   "source": [
    "from classification_models import clasification_model\n",
    "from sklearn.datasets import load_digits\n",
    "import numpy as np\n",
    "\n",
    "train=False\n",
    "\n",
    "with clasification_model() as model:\n",
    "\n",
    "\n",
    "    if train:\n",
    "        model.train()\n",
    "    else:\n",
    "        model.load('./model/check.meta','./model')\n",
    "\n",
    "\n",
    "        digits = load_digits(return_X_y=True)\n",
    "        test_image = (digits[0][1]).reshape(1,64)\n",
    "\n",
    "\n",
    "        image_processed, prediction, cmaps = model.visualize(test_image)\n",
    "\n",
    "        test_image_plot = image_processed.reshape((8, 8))\n",
    "\n",
    "\n",
    "        p_class = np.argmax(prediction)\n",
    "        print(\"Predicted {0}\".format(p_class))\n",
    "        print(cmaps.shape)\n",
    "        print(\"CMAP: \")\n",
    "\n",
    "        import matplotlib.pyplot as plt\n",
    "        from skimage.transform import resize\n",
    "\n",
    "        plt.figure()\n",
    "        plt.imshow(test_image.reshape(8,8),cmap='gray')\n",
    "\n",
    "        plt.figure()\n",
    "        plt.imshow(test_image_plot,cmap='gray')\n",
    "\n",
    "\n",
    "        plt.figure()\n",
    "        plt.imshow(cmaps[0],cmap='jet',interpolation='none')\n",
    "\n",
    "\n",
    "        resized_map = resize(cmaps[0],(test_image_plot.shape))\n",
    "        plt.figure()\n",
    "        plt.imshow(resized_map,cmap='jet')\n",
    "\n",
    "        fig, ax = plt.subplots()\n",
    "        ax.imshow(resized_map, cmap='jet',alpha=0.6)\n",
    "        ax.imshow(test_image_plot,alpha=0.4,cmap='gray')\n",
    "        plt.show()\n"
   ]
  },
  {
   "cell_type": "code",
   "execution_count": null,
   "metadata": {},
   "outputs": [],
   "source": [
    "\"\"\"\n",
    "Ex1\n",
    "TODO experimentar robustes de visualizacion\n",
    "\n",
    "-Binarizar mascara con otsu??? 90 percentil???\n",
    "-Aplicar ruido con sigma creciente 100 samples y observar distribucion label\n",
    "-Crear animacion de variacion \n",
    "\n",
    "Hipotesis: Deberia oscilar rapidamente la clase observada\n",
    "\n",
    "Ex2: Mantener solo el 50 % percentil de la imagen\n",
    "-Binarizar y variar de \n",
    "\n",
    "\n",
    "\"\"\"\n",
    "\n"
   ]
  }
 ],
 "metadata": {
  "kernelspec": {
   "display_name": "GSDA_env",
   "language": "python",
   "name": "gsda_env"
  },
  "language_info": {
   "codemirror_mode": {
    "name": "ipython",
    "version": 3
   },
   "file_extension": ".py",
   "mimetype": "text/x-python",
   "name": "python",
   "nbconvert_exporter": "python",
   "pygments_lexer": "ipython3",
   "version": "3.5.2"
  }
 },
 "nbformat": 4,
 "nbformat_minor": 2
}
