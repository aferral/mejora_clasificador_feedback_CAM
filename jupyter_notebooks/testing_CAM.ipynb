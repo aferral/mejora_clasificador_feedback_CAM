{
 "cells": [
  {
   "cell_type": "code",
   "execution_count": 1,
   "metadata": {},
   "outputs": [
    {
     "name": "stdout",
     "output_type": "stream",
     "text": [
      "/home/aferral/PycharmProjects/generative_supervised_data_augmentation\n",
      "['requirements.txt', 't.py', 'model', 'utils.py', 'venv', 'classification_models', 'tests', '.idea', 'tf_models', 'tf_records_parser', 'datasets', 'ImageNet_Utils', 'logdir', '.git', 'jupyter_notebooks', '.gitmodules', '__pycache__', 'temp', '.ipynb_checkpoints', '.gitignore']\n"
     ]
    }
   ],
   "source": [
    "import os\n",
    "import sys\n",
    "\n",
    "# Set path of python project\n",
    "path=\"/home/aferral/PycharmProjects/generative_supervised_data_augmentation\"\n",
    "os.chdir(path)\n",
    "print(os.getcwd())\n",
    "print(os.listdir('./'))"
   ]
  },
  {
   "cell_type": "code",
   "execution_count": 13,
   "metadata": {},
   "outputs": [
    {
     "name": "stdout",
     "output_type": "stream",
     "text": [
      "Using matplotlib backend: TkAgg\n",
      "['requirements.txt', 't.py', 'model', 'utils.py', 'venv', 'classification_models', 'tests', '.idea', 'tf_models', 'tf_records_parser', 'datasets', 'ImageNet_Utils', 'logdir', 'test.html', '.git', 'jupyter_notebooks', '.gitmodules', '__pycache__', 'temp', '.ipynb_checkpoints', '.gitignore']\n",
      "Mean image loaded from file\n",
      "INFO:tensorflow:Restoring parameters from ./model/Imagenet_subset_vgg16_CAM/29_May_2018__15_16/saved_model\n"
     ]
    },
    {
     "name": "stderr",
     "output_type": "stream",
     "text": [
      "Exception ignored in: <generator object get_controller at 0x7fc790ce9e08>\n",
      "Traceback (most recent call last):\n",
      "  File \"/home/aferral/PycharmProjects/generative_supervised_data_augmentation/venv/lib/python3.5/site-packages/tensorflow/python/framework/ops.py\", line 5068, in get_controller\n",
      "    type(default))\n",
      "AssertionError: Nesting violated for default stack of <class 'tensorflow.python.client.session.Session'> objects\n",
      "Clipping input data to the valid range for imshow with RGB data ([0..1] for floats or [0..255] for integers).\n"
     ]
    },
    {
     "name": "stdout",
     "output_type": "stream",
     "text": [
      "conv_acts.shape: (14, 14, 512)\n",
      "softmax_w.shape: (512, 21)\n",
      "pred.shape: (1, 21)\n",
      "Prediciont [1.17307278e-14 2.09079616e-08 4.57142676e-07 1.29475026e-08\n",
      " 2.10731866e-12 3.43728274e-13 2.06702280e-10 1.15043804e-07\n",
      " 8.17379815e-14 4.05216442e-13 5.51254232e-07 9.99996305e-01\n",
      " 4.34414050e-12 9.58439925e-13 4.87629954e-08 1.54756492e-06\n",
      " 4.83582419e-08 1.51438273e-09 7.99417251e-07 1.00845497e-07\n",
      " 3.24853859e-12]\n",
      "Predicted 11 with score 0.9999963045120239\n",
      "(21, 14, 14)\n",
      "CMAP: \n",
      "[224, 224]\n"
     ]
    },
    {
     "name": "stderr",
     "output_type": "stream",
     "text": [
      "/home/aferral/PycharmProjects/generative_supervised_data_augmentation/venv/lib/python3.5/site-packages/skimage/transform/_warps.py:84: UserWarning: The default mode, 'constant', will be changed to 'reflect' in skimage 0.15.\n",
      "  warn(\"The default mode, 'constant', will be changed to 'reflect' in \"\n",
      "Clipping input data to the valid range for imshow with RGB data ([0..1] for floats or [0..255] for integers).\n"
     ]
    }
   ],
   "source": [
    "%matplotlib\n",
    "\n",
    "print(os.listdir('./'))\n",
    "from classification_models.classification_model import imshow_util\n",
    "from classification_models.vgg16_edited import vgg_16_CAM\n",
    "from classification_models.vgg_16_batch_norm import vgg_16_batchnorm\n",
    "from datasets.cifar10_data import Cifar10_Dataset\n",
    "from datasets.dataset import Dataset, Digits_Dataset\n",
    "from datasets.imagenet_data import Imagenet_Dataset\n",
    "from utils import show_graph, now_string, timeit\n",
    "import tensorflow as tf\n",
    "import numpy as np\n",
    "\n",
    "\n",
    "train=False\n",
    "\n",
    "# todo improve dataset get\n",
    "# todo operate with cmd??? or use gitignored script\n",
    "# start to work on mnist or VOC\n",
    "\n",
    "# dataset = Digits_Dataset(epochs=20,batch_size=30)\n",
    "# dataset = Cifar10_Dataset(20,40)\n",
    "tf.reset_default_graph()\n",
    "dataset = Imagenet_Dataset(20,30)\n",
    "\n",
    "with vgg_16_batchnorm(dataset, debug=False,name='Imagenet_subset_vgg16_CAM') as model:\n",
    "\n",
    "    if train:\n",
    "        model.train()\n",
    "    else:\n",
    "        # model.load('./model/check.meta','model/cifar10_classifier/23_May_2018__10_54')\n",
    "        #model.load('./model/check.meta', 'model/digit_classifier/24_May_2018__15_48')\n",
    "        model.load('./model/check.meta','./model/Imagenet_subset_vgg16_CAM/29_May_2018__15_16')\n",
    "        # model.eval()\n",
    "\n",
    "\n",
    "        test_image = dataset.get_train_image_at(0)[0]\n",
    "        test_image_plot = imshow_util( test_image.reshape(dataset.vis_shape()),dataset.get_data_range())\n",
    "\n",
    "        image_processed, prediction, cmaps = model.visualize(test_image)\n",
    "\n",
    "        image_processed_plot = imshow_util( image_processed.reshape(dataset.vis_shape()),dataset.get_data_range())\n",
    "\n",
    "        p_class = np.argmax(prediction)\n",
    "        print(\"Predicted {0} with score {1}\".format(p_class,np.max(prediction)))\n",
    "        print(cmaps.shape)\n",
    "        print(\"CMAP: \")\n",
    "\n",
    "        import matplotlib.pyplot as plt\n",
    "        from skimage.transform import resize\n",
    "\n",
    "\n",
    "        plt.figure()\n",
    "        plt.imshow(image_processed_plot,cmap='gray')\n",
    "\n",
    "        plt.figure()\n",
    "        plt.imshow(test_image_plot,cmap='gray')\n",
    "\n",
    "\n",
    "        plt.figure()\n",
    "        plt.imshow(cmaps[0],cmap='jet',interpolation='none')\n",
    "\n",
    "        out_shape = list(test_image_plot.shape)\n",
    "        if len(test_image_plot.shape) == 3:\n",
    "            out_shape = out_shape[0:2]\n",
    "        print(out_shape)\n",
    "        resized_map = resize(cmaps[0],out_shape)\n",
    "        plt.figure()\n",
    "        plt.imshow(resized_map,cmap='jet')\n",
    "\n",
    "        fig, ax = plt.subplots()\n",
    "        ax.imshow(resized_map, cmap='jet',alpha=0.7)\n",
    "        ax.imshow(image_processed_plot,alpha=0.3,cmap='gray')\n",
    "        plt.show()\n"
   ]
  },
  {
   "cell_type": "code",
   "execution_count": 15,
   "metadata": {},
   "outputs": [
    {
     "data": {
      "text/plain": [
       "'\\nEx1\\nTODO experimentar robustes de visualizacion\\n\\n-Binarizar mascara con otsu??? 90 percentil???\\n-Aplicar ruido con sigma creciente 100 samples y observar distribucion label\\n-Crear animacion de variacion \\n\\nHipotesis: Deberia oscilar rapidamente la clase observada\\n\\nEx2: Mantener solo el 50 % percentil de la imagen\\n-Binarizar y variar de \\n'"
      ]
     },
     "execution_count": 15,
     "metadata": {},
     "output_type": "execute_result"
    }
   ],
   "source": [
    "\"\"\"\n",
    "Ex1\n",
    "TODO experimentar robustes de visualizacion\n",
    "\n",
    "-Binarizar mascara con otsu??? 90 percentil???\n",
    "-Aplicar ruido con sigma creciente 100 samples y observar distribucion label\n",
    "-Crear animacion de variacion \n",
    "\n",
    "Hipotesis: Deberia oscilar rapidamente la clase observada\n",
    "\n",
    "Ex2: Mantener solo el 50 % percentil de la imagen\n",
    "-Binarizar y variar de \n",
    "\"\"\"\n",
    "\n"
   ]
  },
  {
   "cell_type": "code",
   "execution_count": null,
   "metadata": {},
   "outputs": [],
   "source": []
  },
  {
   "cell_type": "code",
   "execution_count": null,
   "metadata": {},
   "outputs": [],
   "source": [
    "\"\"\"\n",
    "*Summary acc, n bien, n mal , N.\n",
    "*Matriz confusion\n",
    "\n",
    "\n",
    "\n",
    "Cosa 1 visualizacion por indice\n",
    "\n",
    "- Tomar dataset entero y buscar las mal clasificados mostrar lista de indices\n",
    "- Poder pedir indice para mostrar visualizacion\n",
    "\n",
    "-Binarizar mascara con otsu??? 90 percentil???\n",
    "-Aplicar ruido con sigma creciente 100 samples y observar distribucion label\n",
    "-Crear animacion de variacion \n",
    "\n",
    "Hipotesis: Deberia oscilar rapidamente la clase observada\n",
    "\n",
    "Ex2: Mantener solo el 50 % percentil de la imagen\n",
    "-Binarizar y variar de \n",
    "\"\"\""
   ]
  },
  {
   "cell_type": "code",
   "execution_count": null,
   "metadata": {},
   "outputs": [],
   "source": [
    "\"\"\"\n",
    "\n",
    "1.Son estas visualizaciones buenas para localizar areas de interes en la red ??\n",
    "\n",
    "Es decir de cambiar estos pixeles de interes afecta la clasificacion considerablemente. Hipotesis nula\n",
    "cambiando otras areas afecta de igual forma\n",
    "\n",
    "    Correspondencia con oclusion localizada\n",
    "        - Insertar cuadrado gris / promedio / ruido\n",
    "        - Ir moviendo por diversas areas y calcular probabilidad de clase predicha\n",
    "        - Crear mapa de calor con esto\n",
    "        \n",
    "        - Evaluar mascara binaria entre este y el otro. Metrica total por dataset.\n",
    "\n",
    "    Cambios en areas altas vs areas bajas.\n",
    "        - Insertar cuadrado gris en esa area / promeido / ruido\n",
    "        - Mapa de probabilidad deberia dar baja en esa area\n",
    "        \n",
    "    \n",
    "\n",
    "\n",
    "\n",
    "Ex 2:\n",
    "    \n",
    "Analisis de trozos.\n",
    "- Cortar el percentil 90 de activacion\n",
    "- Crear grafo de vecinos cercanos??\n",
    "\n",
    "Para cada clase X\n",
    "    Existe consistencia en los trozos correctamente clasificados??\n",
    "\n",
    "    Existe consistencia en los trozos incorrectamente clasificados de una clase??\n",
    "\n",
    "\n",
    "\"\"\""
   ]
  }
 ],
 "metadata": {
  "kernelspec": {
   "display_name": "GSDA_env",
   "language": "python",
   "name": "gsda_env"
  },
  "language_info": {
   "codemirror_mode": {
    "name": "ipython",
    "version": 3
   },
   "file_extension": ".py",
   "mimetype": "text/x-python",
   "name": "python",
   "nbconvert_exporter": "python",
   "pygments_lexer": "ipython3",
   "version": "3.5.2"
  }
 },
 "nbformat": 4,
 "nbformat_minor": 2
}
